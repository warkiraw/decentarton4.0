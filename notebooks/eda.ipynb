{
  "cells": [
    {
      "cell_type": "code",
      "execution_count": null,
      "metadata": {
        "vscode": {
          "languageId": "plaintext"
        }
      },
      "outputs": [],
      "source": [
        "# Исследовательский анализ данных (EDA)\n",
        "## Система персонализации банковских предложений\n",
        "\n",
        "Этот ноутбук содержит исследовательский анализ данных для понимания поведения клиентов и настройки модели персонализации.\n"
      ]
    },
    {
      "cell_type": "code",
      "execution_count": null,
      "metadata": {},
      "outputs": [],
      "source": [
        "import pandas as pd\n",
        "import numpy as np\n",
        "import matplotlib.pyplot as plt\n",
        "import seaborn as sns\n",
        "from sklearn.preprocessing import StandardScaler\n",
        "from sklearn.cluster import KMeans\n",
        "from sklearn.metrics import silhouette_score\n",
        "\n",
        "# Настройка стилей\n",
        "plt.style.use('default')\n",
        "sns.set_palette(\"husl\")\n",
        "\n",
        "# Подавление предупреждений\n",
        "import warnings\n",
        "warnings.filterwarnings('ignore')\n"
      ]
    },
    {
      "cell_type": "code",
      "execution_count": null,
      "metadata": {},
      "outputs": [],
      "source": [
        "## 1. Загрузка и первичный анализ данных\n"
      ]
    },
    {
      "cell_type": "code",
      "execution_count": null,
      "metadata": {},
      "outputs": [],
      "source": [
        "# Загрузка данных\n",
        "clients_df = pd.read_csv('../data/clients.csv')\n",
        "transactions_df = pd.read_csv('../data/transactions.csv')\n",
        "transfers_df = pd.read_csv('../data/transfers.csv')\n",
        "\n",
        "print(\"Размеры наборов данных:\")\n",
        "print(f\"Клиенты: {clients_df.shape}\")\n",
        "print(f\"Транзакции: {transactions_df.shape}\")\n",
        "print(f\"Переводы: {transfers_df.shape}\")\n"
      ]
    }
  ],
  "metadata": {
    "language_info": {
      "name": "python"
    }
  },
  "nbformat": 4,
  "nbformat_minor": 2
}
